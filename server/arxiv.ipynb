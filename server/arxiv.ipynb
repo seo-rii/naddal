{
 "cells": [
  {
   "cell_type": "code",
   "execution_count": 1,
   "metadata": {},
   "outputs": [
    {
     "name": "stdout",
     "output_type": "stream",
     "text": [
      "Note: you may need to restart the kernel to use updated packages.\n"
     ]
    }
   ],
   "source": [
    "%pip install -qU arxiv pymupdf"
   ]
  },
  {
   "cell_type": "code",
   "execution_count": 2,
   "metadata": {},
   "outputs": [],
   "source": [
    "from langchain_community.retrievers import ArxivRetriever"
   ]
  },
  {
   "cell_type": "code",
   "execution_count": 3,
   "metadata": {},
   "outputs": [],
   "source": [
    "retriever = ArxivRetriever(load_max_docs=2)"
   ]
  },
  {
   "cell_type": "code",
   "execution_count": 4,
   "metadata": {},
   "outputs": [],
   "source": [
    "docs = retriever.invoke(\"1706.037\")"
   ]
  },
  {
   "cell_type": "code",
   "execution_count": 5,
   "metadata": {},
   "outputs": [
    {
     "data": {
      "text/plain": [
       "[]"
      ]
     },
     "execution_count": 5,
     "metadata": {},
     "output_type": "execute_result"
    }
   ],
   "source": [
    "docs"
   ]
  },
  {
   "cell_type": "code",
   "execution_count": 6,
   "metadata": {},
   "outputs": [],
   "source": [
    "from langchain_community.document_loaders import ArxivLoader\n",
    "# Supports all arguments of `ArxivAPIWrapper`\n",
    "loader = ArxivLoader(\n",
    "    query=\"1706.03762\",\n",
    "    load_max_docs=1,\n",
    "    # doc_content_chars_max=1000,\n",
    "    load_all_available_meta=True,\n",
    ")"
   ]
  },
  {
   "cell_type": "code",
   "execution_count": 7,
   "metadata": {},
   "outputs": [],
   "source": [
    "docs = loader.load()"
   ]
  },
  {
   "cell_type": "code",
   "execution_count": 8,
   "metadata": {},
   "outputs": [
    {
     "data": {
      "text/plain": [
       "{'Published': '2023-08-02',\n",
       " 'Title': 'Attention Is All You Need',\n",
       " 'Authors': 'Ashish Vaswani, Noam Shazeer, Niki Parmar, Jakob Uszkoreit, Llion Jones, Aidan N. Gomez, Lukasz Kaiser, Illia Polosukhin',\n",
       " 'Summary': 'The dominant sequence transduction models are based on complex recurrent or\\nconvolutional neural networks in an encoder-decoder configuration. The best\\nperforming models also connect the encoder and decoder through an attention\\nmechanism. We propose a new simple network architecture, the Transformer, based\\nsolely on attention mechanisms, dispensing with recurrence and convolutions\\nentirely. Experiments on two machine translation tasks show these models to be\\nsuperior in quality while being more parallelizable and requiring significantly\\nless time to train. Our model achieves 28.4 BLEU on the WMT 2014\\nEnglish-to-German translation task, improving over the existing best results,\\nincluding ensembles by over 2 BLEU. On the WMT 2014 English-to-French\\ntranslation task, our model establishes a new single-model state-of-the-art\\nBLEU score of 41.8 after training for 3.5 days on eight GPUs, a small fraction\\nof the training costs of the best models from the literature. We show that the\\nTransformer generalizes well to other tasks by applying it successfully to\\nEnglish constituency parsing both with large and limited training data.',\n",
       " 'entry_id': 'http://arxiv.org/abs/1706.03762v7',\n",
       " 'published_first_time': '2017-06-12',\n",
       " 'comment': '15 pages, 5 figures',\n",
       " 'journal_ref': None,\n",
       " 'doi': None,\n",
       " 'primary_category': 'cs.CL',\n",
       " 'categories': ['cs.CL', 'cs.LG'],\n",
       " 'links': ['http://arxiv.org/abs/1706.03762v7',\n",
       "  'http://arxiv.org/pdf/1706.03762v7']}"
      ]
     },
     "execution_count": 8,
     "metadata": {},
     "output_type": "execute_result"
    }
   ],
   "source": [
    "docs[0].metadata"
   ]
  },
  {
   "cell_type": "code",
   "execution_count": 10,
   "metadata": {},
   "outputs": [
    {
     "data": {
      "text/plain": [
       "'http://arxiv.org/pdf/1706.03762v7'"
      ]
     },
     "execution_count": 10,
     "metadata": {},
     "output_type": "execute_result"
    }
   ],
   "source": [
    "link = docs[0].metadata['links'][1]"
   ]
  },
  {
   "cell_type": "code",
   "execution_count": 16,
   "metadata": {},
   "outputs": [],
   "source": [
    "import subprocess\n",
    "\n",
    "def run_shell_script_with_url(script_path, url, filename):\n",
    "    \"\"\"\n",
    "    주어진 쉘 스크립트를 URL 인자로 실행하는 함수\n",
    "\n",
    "    :param script_path: 실행할 쉘 스크립트 파일의 경로\n",
    "    :param url: wget 명령어로 다운로드할 URL\n",
    "    :return: 쉘 스크립트 실행의 표준 출력 및 표준 오류 출력\n",
    "    \"\"\"\n",
    "    try:\n",
    "        # subprocess.run을 사용하여 쉘 스크립트 실행, URL 인자를 전달\n",
    "        result = subprocess.run(['bash', script_path, url, filename], capture_output=True, text=True)\n",
    "        # 표준 출력 및 표준 오류 출력 반환\n",
    "        return result.stdout, result.stderr\n",
    "    except Exception as e:\n",
    "        # 예외 발생 시 오류 메시지 반환\n",
    "        return str(e), None\n",
    "\n",
    "# 사용 예제\n",
    "link = 'https://arxiv.org/pdf/2209.14988'\n",
    "script_path = 'download.sh'  # 여기에 쉘 스크립트 파일 경로를 입력하세요\n",
    "url = link  # 다운로드할 URL을 입력하세요\n",
    "file = 'dreamfusion'\n",
    "filename = 'pdfs/'+ file + '.pdf'\n",
    "stdout, stderr = run_shell_script_with_url(script_path, url, filename)\n",
    "\n"
   ]
  }
 ],
 "metadata": {
  "kernelspec": {
   "display_name": "upstage",
   "language": "python",
   "name": "python3"
  },
  "language_info": {
   "codemirror_mode": {
    "name": "ipython",
    "version": 3
   },
   "file_extension": ".py",
   "mimetype": "text/x-python",
   "name": "python",
   "nbconvert_exporter": "python",
   "pygments_lexer": "ipython3",
   "version": "3.9.19"
  }
 },
 "nbformat": 4,
 "nbformat_minor": 2
}
